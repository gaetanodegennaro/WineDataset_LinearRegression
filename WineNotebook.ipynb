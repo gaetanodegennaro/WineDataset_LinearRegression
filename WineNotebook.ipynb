{
 "cells": [
  {
   "cell_type": "markdown",
   "metadata": {},
   "source": [
    "# Wine Dataset: PCA & Logistic Regression"
   ]
  },
  {
   "cell_type": "code",
   "execution_count": 1,
   "metadata": {},
   "outputs": [],
   "source": [
    "import pandas as pd  \n",
    "import numpy as np  \n",
    "import matplotlib.pyplot as plt  \n",
    "import seaborn as seabornInstance \n",
    "from sklearn.model_selection import train_test_split \n",
    "from sklearn.linear_model import LinearRegression\n",
    "from sklearn import metrics\n",
    "%matplotlib inline"
   ]
  },
  {
   "cell_type": "code",
   "execution_count": 2,
   "metadata": {},
   "outputs": [],
   "source": [
    "dataset1 = pd.read_csv('./Metodi numerici per la DS/Dataset/Wine-Dataset/winequality-red.csv',delimiter=';')\n",
    "dataset1[\"Class\"] = 0\n",
    "dataset2 = pd.read_csv('./Metodi numerici per la DS/Dataset/Wine-Dataset/winequality-white.csv',delimiter=';')\n",
    "dataset2[\"Class\"] = 1\n",
    "dataset = pd.concat([dataset1, dataset2])\n"
   ]
  },
  {
   "cell_type": "code",
   "execution_count": 3,
   "metadata": {},
   "outputs": [
    {
     "data": {
      "text/html": [
       "<div>\n",
       "<style scoped>\n",
       "    .dataframe tbody tr th:only-of-type {\n",
       "        vertical-align: middle;\n",
       "    }\n",
       "\n",
       "    .dataframe tbody tr th {\n",
       "        vertical-align: top;\n",
       "    }\n",
       "\n",
       "    .dataframe thead th {\n",
       "        text-align: right;\n",
       "    }\n",
       "</style>\n",
       "<table border=\"1\" class=\"dataframe\">\n",
       "  <thead>\n",
       "    <tr style=\"text-align: right;\">\n",
       "      <th></th>\n",
       "      <th>fixed acidity</th>\n",
       "      <th>volatile acidity</th>\n",
       "      <th>citric acid</th>\n",
       "      <th>residual sugar</th>\n",
       "      <th>chlorides</th>\n",
       "      <th>free sulfur dioxide</th>\n",
       "      <th>total sulfur dioxide</th>\n",
       "      <th>density</th>\n",
       "      <th>pH</th>\n",
       "      <th>sulphates</th>\n",
       "      <th>alcohol</th>\n",
       "      <th>quality</th>\n",
       "      <th>Class</th>\n",
       "    </tr>\n",
       "  </thead>\n",
       "  <tbody>\n",
       "    <tr>\n",
       "      <th>0</th>\n",
       "      <td>7.4</td>\n",
       "      <td>0.70</td>\n",
       "      <td>0.00</td>\n",
       "      <td>1.9</td>\n",
       "      <td>0.076</td>\n",
       "      <td>11.0</td>\n",
       "      <td>34.0</td>\n",
       "      <td>0.9978</td>\n",
       "      <td>3.51</td>\n",
       "      <td>0.56</td>\n",
       "      <td>9.4</td>\n",
       "      <td>5</td>\n",
       "      <td>0</td>\n",
       "    </tr>\n",
       "    <tr>\n",
       "      <th>1</th>\n",
       "      <td>7.8</td>\n",
       "      <td>0.88</td>\n",
       "      <td>0.00</td>\n",
       "      <td>2.6</td>\n",
       "      <td>0.098</td>\n",
       "      <td>25.0</td>\n",
       "      <td>67.0</td>\n",
       "      <td>0.9968</td>\n",
       "      <td>3.20</td>\n",
       "      <td>0.68</td>\n",
       "      <td>9.8</td>\n",
       "      <td>5</td>\n",
       "      <td>0</td>\n",
       "    </tr>\n",
       "    <tr>\n",
       "      <th>2</th>\n",
       "      <td>7.8</td>\n",
       "      <td>0.76</td>\n",
       "      <td>0.04</td>\n",
       "      <td>2.3</td>\n",
       "      <td>0.092</td>\n",
       "      <td>15.0</td>\n",
       "      <td>54.0</td>\n",
       "      <td>0.9970</td>\n",
       "      <td>3.26</td>\n",
       "      <td>0.65</td>\n",
       "      <td>9.8</td>\n",
       "      <td>5</td>\n",
       "      <td>0</td>\n",
       "    </tr>\n",
       "    <tr>\n",
       "      <th>3</th>\n",
       "      <td>11.2</td>\n",
       "      <td>0.28</td>\n",
       "      <td>0.56</td>\n",
       "      <td>1.9</td>\n",
       "      <td>0.075</td>\n",
       "      <td>17.0</td>\n",
       "      <td>60.0</td>\n",
       "      <td>0.9980</td>\n",
       "      <td>3.16</td>\n",
       "      <td>0.58</td>\n",
       "      <td>9.8</td>\n",
       "      <td>6</td>\n",
       "      <td>0</td>\n",
       "    </tr>\n",
       "    <tr>\n",
       "      <th>4</th>\n",
       "      <td>7.4</td>\n",
       "      <td>0.70</td>\n",
       "      <td>0.00</td>\n",
       "      <td>1.9</td>\n",
       "      <td>0.076</td>\n",
       "      <td>11.0</td>\n",
       "      <td>34.0</td>\n",
       "      <td>0.9978</td>\n",
       "      <td>3.51</td>\n",
       "      <td>0.56</td>\n",
       "      <td>9.4</td>\n",
       "      <td>5</td>\n",
       "      <td>0</td>\n",
       "    </tr>\n",
       "  </tbody>\n",
       "</table>\n",
       "</div>"
      ],
      "text/plain": [
       "   fixed acidity  volatile acidity  citric acid  residual sugar  chlorides  \\\n",
       "0            7.4              0.70         0.00             1.9      0.076   \n",
       "1            7.8              0.88         0.00             2.6      0.098   \n",
       "2            7.8              0.76         0.04             2.3      0.092   \n",
       "3           11.2              0.28         0.56             1.9      0.075   \n",
       "4            7.4              0.70         0.00             1.9      0.076   \n",
       "\n",
       "   free sulfur dioxide  total sulfur dioxide  density    pH  sulphates  \\\n",
       "0                 11.0                  34.0   0.9978  3.51       0.56   \n",
       "1                 25.0                  67.0   0.9968  3.20       0.68   \n",
       "2                 15.0                  54.0   0.9970  3.26       0.65   \n",
       "3                 17.0                  60.0   0.9980  3.16       0.58   \n",
       "4                 11.0                  34.0   0.9978  3.51       0.56   \n",
       "\n",
       "   alcohol  quality  Class  \n",
       "0      9.4        5      0  \n",
       "1      9.8        5      0  \n",
       "2      9.8        5      0  \n",
       "3      9.8        6      0  \n",
       "4      9.4        5      0  "
      ]
     },
     "execution_count": 3,
     "metadata": {},
     "output_type": "execute_result"
    }
   ],
   "source": [
    "dataset.head()"
   ]
  },
  {
   "cell_type": "markdown",
   "metadata": {},
   "source": [
    "### Distribuzione dei dati per feature \"quality\"\n",
    "Da quanto segue si evince che il numero di vini è diverso per ogni qualità, pertanto si può affermare che il dataset è sbilanciato: ci sono molti vini di qualità 5, 6 e 7, e pochi vini di qualità 3, 4, 5, 8, 9.\n",
    "Pertanto si prevede che la retta approssimerà meglio la qualità dei vini 5, 6 e 7, perchè è lì che è presente la maggior parte dei dati."
   ]
  },
  {
   "cell_type": "code",
   "execution_count": 4,
   "metadata": {},
   "outputs": [
    {
     "data": {
      "text/plain": [
       "5    681\n",
       "6    638\n",
       "7    199\n",
       "4     53\n",
       "8     18\n",
       "3     10\n",
       "Name: quality, dtype: int64"
      ]
     },
     "execution_count": 4,
     "metadata": {},
     "output_type": "execute_result"
    }
   ],
   "source": [
    "dataset1['quality'].value_counts()"
   ]
  },
  {
   "cell_type": "code",
   "execution_count": 53,
   "metadata": {},
   "outputs": [
    {
     "data": {
      "image/png": "[encoded data removed]",
      "text/plain": [
       "<Figure size 432x288 with 1 Axes>"
      ]
     },
     "metadata": {},
     "output_type": "display_data"
    }
   ],
   "source": [
    "#Plot dei vini per classe\n",
    "import matplotlib.pyplot as plt\n",
    "\n",
    "# Data to plot\n",
    "labels = ['Red', 'White']\n",
    "sizes = [len(dataset1), len(dataset2)]\n",
    "colors = ['red', 'gold']\n",
    "#explode = (0.1, 0, 0, 0)  # explode 1st slice\n",
    "\n",
    "# Plot\n",
    "plt.pie(sizes, labels=labels, colors=colors,autopct='%1.1f%%', shadow=True, startangle=140, textprops={'color':\"w\"}) #Con tema bianco, rimuovere l'attributo textprops\n",
    "\n",
    "plt.axis('equal')\n",
    "plt.show()"
   ]
  },
  {
   "cell_type": "code",
   "execution_count": 6,
   "metadata": {},
   "outputs": [
    {
     "data": {
      "image/png": "[encoded data removed]",
      "text/plain": [
       "<Figure size 432x288 with 1 Axes>"
      ]
     },
     "metadata": {
      "needs_background": "light"
     },
     "output_type": "display_data"
    }
   ],
   "source": [
    "ax = dataset['quality'].plot.hist(bins=6, alpha=0.5)\n",
    "ax = dataset2['quality'].plot.hist(bins=6, alpha=0.5)\n",
    "ax = dataset1['quality'].plot.hist(bins=5, alpha=0.5)\n",
    "ax.legend([\"Total Wine\", \"White Wine\", 'Red Whine']);"
   ]
  },
  {
   "cell_type": "code",
   "execution_count": 7,
   "metadata": {},
   "outputs": [
    {
     "name": "stdout",
     "output_type": "stream",
     "text": [
      "Index(['fixed acidity', 'volatile acidity', 'citric acid', 'residual sugar',\n",
      "       'chlorides', 'free sulfur dioxide', 'total sulfur dioxide', 'density',\n",
      "       'pH', 'sulphates', 'alcohol', 'Class'],\n",
      "      dtype='object')\n"
     ]
    }
   ],
   "source": [
    "from sklearn.model_selection import train_test_split\n",
    "# test_size: what proportion of original data is used for test set\n",
    "x = dataset.drop(['quality'],axis=1)\n",
    "y = dataset['quality'].values\n",
    "x_train, x_test, y_train, y_test = train_test_split( x, y, test_size=0.3, random_state=1, shuffle=True)\n",
    "\n",
    "print(x_train.columns)"
   ]
  },
  {
   "cell_type": "code",
   "execution_count": 8,
   "metadata": {},
   "outputs": [],
   "source": [
    "from sklearn.preprocessing import StandardScaler\n",
    "scaler = StandardScaler()\n",
    "# Fit on training set only.\n",
    "scaler.fit(x_train)\n",
    "# Apply transform to both the training set and the test set.\n",
    "x_train = scaler.transform(x_train)\n",
    "x_test = scaler.transform(x_test)"
   ]
  },
  {
   "cell_type": "code",
   "execution_count": 9,
   "metadata": {},
   "outputs": [
    {
     "data": {
      "text/plain": [
       "PCA(copy=True, iterated_power='auto', n_components=None, random_state=None,\n",
       "    svd_solver='auto', tol=0.0, whiten=False)"
      ]
     },
     "execution_count": 9,
     "metadata": {},
     "output_type": "execute_result"
    }
   ],
   "source": [
    "from sklearn.decomposition import PCA\n",
    "# Make an instance of the Model\n",
    "#pca = PCA(0.80) #Si imposta il modello fermandosi quando si ha il 95% della varianza spiegata\n",
    "pca = PCA()\n",
    "pca.fit(x_train)"
   ]
  },
  {
   "cell_type": "code",
   "execution_count": 10,
   "metadata": {},
   "outputs": [
    {
     "data": {
      "image/png": "[encoded data removed]",
      "text/plain": [
       "<Figure size 1080x360 with 2 Axes>"
      ]
     },
     "metadata": {
      "needs_background": "light"
     },
     "output_type": "display_data"
    }
   ],
   "source": [
    "y = pca.explained_variance_ratio_\n",
    "x = np.arange(len(y)) + 1\n",
    "\n",
    "plt.figure(figsize=(15,5))\n",
    "plt.subplot(1, 2, 1)\n",
    "plt.plot(x, y, \"o-\")\n",
    "plt.title(\"Variance for each component\")\n",
    "plt.xticks(x, [\"Comp.\"+str(i) for i in x], rotation=90)\n",
    "plt.ylabel(\"Variance\")\n",
    "\n",
    "y2 = np.cumsum((pca.explained_variance_ratio_))\n",
    "\n",
    "plt.subplot(1, 2, 2)\n",
    "plt.plot(x, y2, \"o-\")\n",
    "plt.xticks(x, [\"Comp.\"+str(i) for i in x], rotation=90)\n",
    "plt.title(\"Cumulative Variance\")\n",
    "plt.ylabel(\"Variance\")\n",
    "plt.show()"
   ]
  },
  {
   "cell_type": "code",
   "execution_count": 11,
   "metadata": {},
   "outputs": [
    {
     "name": "stdout",
     "output_type": "stream",
     "text": [
      "[[ 0.24793237  0.35865268 -0.12292603 -0.24574352  0.2908113  -0.34232161\n",
      "  -0.41333815  0.14026993  0.19418423  0.28528493  0.02494674 -0.47159346]\n",
      " [ 0.27899132  0.04314754  0.20445899  0.39748782  0.24972249  0.16040544\n",
      "   0.19191568  0.55832588 -0.20314256  0.12742053 -0.46950214 -0.07691746]\n",
      " [ 0.45317741 -0.29051596  0.59064288 -0.18301375  0.00487614 -0.15759546\n",
      "  -0.12684385 -0.16098756 -0.42666955  0.10602437  0.25691363  0.04145509]\n",
      " [-0.16701457 -0.19160741  0.25498404 -0.14146275  0.22885918  0.39200672\n",
      "   0.21374524 -0.06955815  0.41986973  0.63328366  0.12739328 -0.01500562]\n",
      " [ 0.15999533 -0.12595807  0.15921678  0.35903779 -0.64788914 -0.15621677\n",
      "  -0.12513323  0.30179692  0.43927377  0.09018652  0.21411963 -0.08019944]\n",
      " [ 0.27310678  0.51695337 -0.17002794  0.13147141 -0.14675653  0.45764157\n",
      "   0.19573579 -0.04323431 -0.25146863  0.0873562   0.50587665 -0.11850699]\n",
      " [-0.2881057  -0.14791403 -0.31247782  0.41460467  0.04396416 -0.30732542\n",
      "  -0.13138375 -0.0206199  -0.40204529  0.54951544  0.17101453  0.13658289]\n",
      " [-0.29552962  0.23405226  0.41578572  0.41303308  0.4550527  -0.15055203\n",
      "  -0.06233293  0.00992797  0.16165373 -0.31619659  0.39085752  0.04246239]]\n",
      "[3.81801279 2.55298781 1.53822889 0.96709133 0.7273649  0.62356778\n",
      " 0.53238464 0.49331644]\n",
      "[0.31809776 0.2127022  0.12815755 0.08057322 0.06060041 0.05195255\n",
      " 0.04435563 0.04110066]\n",
      "[131.74477661 107.73060187  83.62289484  66.30533316  57.50305061\n",
      "  53.24226806  49.19573728  47.35627254]\n"
     ]
    }
   ],
   "source": [
    "#Ottenuto il grafico, richiamo PCA sul numero delle componenti prefissate dall'utente e ne eseguo il fit\n",
    "pca = PCA(n_components=8)\n",
    "pca.fit(x_train)\n",
    "x_train = pca.transform(x_train)\n",
    "x_test = pca.transform(x_test)\n",
    "\n",
    "#Stampa dei valori della PCA\n",
    "print(pca.components_)\n",
    "print(pca.explained_variance_)\n",
    "print(pca.explained_variance_ratio_)\n",
    "print(pca.singular_values_)"
   ]
  },
  {
   "cell_type": "markdown",
   "metadata": {},
   "source": [
    "## Regressione Logistica"
   ]
  },
  {
   "cell_type": "code",
   "execution_count": 12,
   "metadata": {},
   "outputs": [],
   "source": [
    "from sklearn.linear_model import LogisticRegression"
   ]
  },
  {
   "cell_type": "code",
   "execution_count": 13,
   "metadata": {},
   "outputs": [],
   "source": [
    "# all parameters not specified are set to their defaults\n",
    "# default solver is incredibly slow which is why it was changed to 'lbfgs'\n",
    "logisticRegr = LogisticRegression(solver = 'lbfgs', n_jobs=-1)"
   ]
  },
  {
   "cell_type": "code",
   "execution_count": 14,
   "metadata": {},
   "outputs": [
    {
     "data": {
      "text/plain": [
       "LogisticRegression(C=1.0, class_weight=None, dual=False, fit_intercept=True,\n",
       "                   intercept_scaling=1, l1_ratio=None, max_iter=100,\n",
       "                   multi_class='auto', n_jobs=-1, penalty='l2',\n",
       "                   random_state=None, solver='lbfgs', tol=0.0001, verbose=0,\n",
       "                   warm_start=False)"
      ]
     },
     "execution_count": 14,
     "metadata": {},
     "output_type": "execute_result"
    }
   ],
   "source": [
    "logisticRegr.fit(x_train, y_train)"
   ]
  },
  {
   "cell_type": "code",
   "execution_count": 15,
   "metadata": {},
   "outputs": [],
   "source": [
    "# Predict for more observation\n",
    "y_predicted = logisticRegr.predict(x_test)"
   ]
  },
  {
   "cell_type": "code",
   "execution_count": 16,
   "metadata": {},
   "outputs": [
    {
     "name": "stdout",
     "output_type": "stream",
     "text": [
      "Score:  0.5261538461538462\n"
     ]
    }
   ],
   "source": [
    "print(\"Score: \",logisticRegr.score(x_test, y_test))"
   ]
  },
  {
   "cell_type": "code",
   "execution_count": 17,
   "metadata": {},
   "outputs": [
    {
     "name": "stdout",
     "output_type": "stream",
     "text": [
      "[-2.0707186   0.04937831  2.49838416  3.04209319  1.63154443 -0.44623462\n",
      " -4.70444686]\n",
      "COEFFICIENTI: \n",
      " [[ 2.03242964e-01  3.72969694e-01 -2.56536968e-01 -7.86862686e-02\n",
      "  -6.40776415e-01  5.05308498e-01 -3.99469525e-01  4.25047573e-01]\n",
      " [ 2.33757506e-01  1.71419317e-01 -3.33349942e-01 -6.97829428e-01\n",
      "  -6.76225784e-01 -6.17650116e-01 -2.45407610e-01  2.24249901e-01]\n",
      " [ 1.80986499e-01  5.33871802e-01 -3.21201865e-01 -1.66780873e-01\n",
      "  -6.42975842e-01 -5.95407503e-01 -2.16647825e-01 -3.12843173e-01]\n",
      " [ 7.38084804e-02  1.44292893e-01  2.13572716e-03  1.42146268e-01\n",
      "  -2.46454320e-01 -3.18811973e-01  2.97855423e-01 -3.44451904e-02]\n",
      " [-7.04453521e-02 -2.44035689e-01  2.88263150e-01  3.07036965e-01\n",
      "   4.39745503e-01  2.55247716e-04  4.83473171e-01 -2.05229614e-01]\n",
      " [-2.78976335e-01 -2.90580750e-01  2.61832646e-01  4.45263285e-01\n",
      "   3.41182157e-01  4.51828200e-01  5.60804384e-01  2.53468587e-01]\n",
      " [-3.42373762e-01 -6.87937266e-01  3.58857252e-01  4.88500512e-02\n",
      "   1.42550470e+00  5.74477646e-01 -4.80608018e-01 -3.50248083e-01]]\n"
     ]
    }
   ],
   "source": [
    "#(X_test, logisticRegr.coef_ * X_test + logisticRegr.intercept_)\n",
    "print(logisticRegr.intercept_)\n",
    "print(\"COEFFICIENTI: \\n\",logisticRegr.coef_)"
   ]
  },
  {
   "cell_type": "markdown",
   "metadata": {},
   "source": [
    "## Analisi dei Residui"
   ]
  },
  {
   "cell_type": "code",
   "execution_count": 18,
   "metadata": {},
   "outputs": [
    {
     "name": "stdout",
     "output_type": "stream",
     "text": [
      "Mean Squared Error: 0.6748717948717948\n",
      "R score: 0.10011856048425705\n",
      "Mean Absolute Error: 0.5384615384615384\n"
     ]
    }
   ],
   "source": [
    "from sklearn.linear_model import LinearRegression\n",
    "from sklearn.metrics import mean_squared_error\n",
    "from sklearn.metrics import mean_absolute_error\n",
    "from sklearn.metrics import r2_score\n",
    "\n",
    "mse = mean_squared_error(y_test, y_predicted)\n",
    "r = r2_score(y_test, y_predicted)\n",
    "mae = mean_absolute_error(y_test,y_predicted)\n",
    "print(\"Mean Squared Error:\",mse)\n",
    "print(\"R score:\",r)\n",
    "print(\"Mean Absolute Error:\",mae)"
   ]
  },
  {
   "cell_type": "markdown",
   "metadata": {},
   "source": [
    "## Analisi Performance\n",
    "Dal codice seguente si evince che i valori predetti ricadono all'interno di un intervallo discreto compreso tra 5 e 7, a differenza dei valori presenti nel test set, che ha valori in un intervallo compreso tra 3 e 9.\n",
    "Questo accade per le motivazioni esposte nel paragrafo \"Distribuzione dei dati per feature quality\"."
   ]
  },
  {
   "cell_type": "code",
   "execution_count": 19,
   "metadata": {},
   "outputs": [
    {
     "data": {
      "text/html": [
       "<div>\n",
       "<style scoped>\n",
       "    .dataframe tbody tr th:only-of-type {\n",
       "        vertical-align: middle;\n",
       "    }\n",
       "\n",
       "    .dataframe tbody tr th {\n",
       "        vertical-align: top;\n",
       "    }\n",
       "\n",
       "    .dataframe thead th {\n",
       "        text-align: right;\n",
       "    }\n",
       "</style>\n",
       "<table border=\"1\" class=\"dataframe\">\n",
       "  <thead>\n",
       "    <tr style=\"text-align: right;\">\n",
       "      <th></th>\n",
       "      <th>Actual</th>\n",
       "      <th>Predicted</th>\n",
       "    </tr>\n",
       "  </thead>\n",
       "  <tbody>\n",
       "    <tr>\n",
       "      <th>count</th>\n",
       "      <td>1950.000000</td>\n",
       "      <td>1950.000000</td>\n",
       "    </tr>\n",
       "    <tr>\n",
       "      <th>mean</th>\n",
       "      <td>5.809744</td>\n",
       "      <td>5.735897</td>\n",
       "    </tr>\n",
       "    <tr>\n",
       "      <th>std</th>\n",
       "      <td>0.866222</td>\n",
       "      <td>0.566278</td>\n",
       "    </tr>\n",
       "    <tr>\n",
       "      <th>min</th>\n",
       "      <td>3.000000</td>\n",
       "      <td>4.000000</td>\n",
       "    </tr>\n",
       "    <tr>\n",
       "      <th>25%</th>\n",
       "      <td>5.000000</td>\n",
       "      <td>5.000000</td>\n",
       "    </tr>\n",
       "    <tr>\n",
       "      <th>50%</th>\n",
       "      <td>6.000000</td>\n",
       "      <td>6.000000</td>\n",
       "    </tr>\n",
       "    <tr>\n",
       "      <th>75%</th>\n",
       "      <td>6.000000</td>\n",
       "      <td>6.000000</td>\n",
       "    </tr>\n",
       "    <tr>\n",
       "      <th>max</th>\n",
       "      <td>9.000000</td>\n",
       "      <td>7.000000</td>\n",
       "    </tr>\n",
       "  </tbody>\n",
       "</table>\n",
       "</div>"
      ],
      "text/plain": [
       "            Actual    Predicted\n",
       "count  1950.000000  1950.000000\n",
       "mean      5.809744     5.735897\n",
       "std       0.866222     0.566278\n",
       "min       3.000000     4.000000\n",
       "25%       5.000000     5.000000\n",
       "50%       6.000000     6.000000\n",
       "75%       6.000000     6.000000\n",
       "max       9.000000     7.000000"
      ]
     },
     "execution_count": 19,
     "metadata": {},
     "output_type": "execute_result"
    }
   ],
   "source": [
    "df = pd.DataFrame({'Actual': y_test, 'Predicted': y_predicted})\n",
    "df.describe()"
   ]
  },
  {
   "cell_type": "markdown",
   "metadata": {},
   "source": [
    "Si riporta inoltre un istogramma per confrontare i primi 40 valori reali con quelli predetti."
   ]
  },
  {
   "cell_type": "code",
   "execution_count": 20,
   "metadata": {},
   "outputs": [
    {
     "data": {
      "image/png": "[encoded data removed]",
      "text/plain": [
       "<Figure size 1080x576 with 1 Axes>"
      ]
     },
     "metadata": {
      "needs_background": "light"
     },
     "output_type": "display_data"
    }
   ],
   "source": [
    "df = df.head(40)\n",
    "df.plot(kind='bar',figsize=(15,8))\n",
    "plt.grid(which='major', linestyle='-', linewidth='0.5')\n",
    "plt.grid(which='minor', linestyle=':', linewidth='0.5')\n",
    "plt.show()"
   ]
  },
  {
   "cell_type": "code",
   "execution_count": null,
   "metadata": {},
   "outputs": [],
   "source": []
  }
 ],
 "metadata": {
  "kernelspec": {
   "display_name": "Python 3",
   "language": "python",
   "name": "python3"
  },
  "language_info": {
   "codemirror_mode": {
    "name": "ipython",
    "version": 3
   },
   "file_extension": ".py",
   "mimetype": "text/x-python",
   "name": "python",
   "nbconvert_exporter": "python",
   "pygments_lexer": "ipython3",
   "version": "3.7.6"
  }
 },
 "nbformat": 4,
 "nbformat_minor": 4
}
